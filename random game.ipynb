{
 "cells": [
  {
   "cell_type": "code",
   "execution_count": 5,
   "metadata": {},
   "outputs": [],
   "source": [
    "import random\n",
    "\n",
    "def guess_game():\n",
    "    game = True\n",
    "    while game:\n",
    "    \n",
    "        number = random.randrange(1, 10)\n",
    "        tries = 0\n",
    "             \n",
    "        ## Game Start\n",
    "        print(\"I'm thinking of a number between 1 and 10\")\n",
    "\n",
    "        guess = int(input(\"Have a guess, you have 3 tries: \"))\n",
    "        while guess != number:\n",
    "\n",
    "        ## Check win/lose\n",
    "            if guess == number:\n",
    "                print('Congrats you got it!')\n",
    "                game = False\n",
    "\n",
    "\n",
    "        ## Check if guess is higher or lower\n",
    "            if guess > number:\n",
    "                print(\"Guess lower...\")\n",
    "                tries = tries + 1\n",
    "\n",
    "\n",
    "            if guess < number:\n",
    "                print(\"Guess higher...\")\n",
    "                tries = tries + 1\n",
    "\n",
    "            if tries == 3:\n",
    "                print('You lose!')\n",
    "                game = False\n",
    "\n",
    "            if game == True:\n",
    "                guess = int(input(\"Have another guess: \"))\n",
    "            else:\n",
    "                break\n",
    "\n",
    "        if guess == number:\n",
    "                print('Congrats you got it! First guess too, awesome!')\n",
    "                game = False\n",
    "            \n",
    "       \n",
    "    \n",
    "    "
   ]
  },
  {
   "cell_type": "code",
   "execution_count": 6,
   "metadata": {},
   "outputs": [
    {
     "name": "stdout",
     "output_type": "stream",
     "text": [
      "I'm thinking of a number between 1 and 10\n",
      "Have a guess, you have 3 tries: 1\n",
      "Guess higher...\n",
      "Have another guess: 2\n",
      "Guess higher...\n",
      "Have another guess: 3\n",
      "Guess higher...\n",
      "You lose!\n"
     ]
    }
   ],
   "source": [
    "guess_game()"
   ]
  },
  {
   "cell_type": "code",
   "execution_count": null,
   "metadata": {},
   "outputs": [],
   "source": []
  },
  {
   "cell_type": "code",
   "execution_count": null,
   "metadata": {},
   "outputs": [],
   "source": []
  },
  {
   "cell_type": "code",
   "execution_count": null,
   "metadata": {},
   "outputs": [],
   "source": []
  },
  {
   "cell_type": "code",
   "execution_count": null,
   "metadata": {},
   "outputs": [],
   "source": []
  },
  {
   "cell_type": "code",
   "execution_count": null,
   "metadata": {},
   "outputs": [],
   "source": []
  },
  {
   "cell_type": "code",
   "execution_count": null,
   "metadata": {},
   "outputs": [],
   "source": []
  },
  {
   "cell_type": "code",
   "execution_count": null,
   "metadata": {},
   "outputs": [],
   "source": []
  },
  {
   "cell_type": "code",
   "execution_count": null,
   "metadata": {},
   "outputs": [],
   "source": []
  },
  {
   "cell_type": "code",
   "execution_count": null,
   "metadata": {},
   "outputs": [],
   "source": []
  },
  {
   "cell_type": "code",
   "execution_count": null,
   "metadata": {},
   "outputs": [],
   "source": []
  },
  {
   "cell_type": "code",
   "execution_count": null,
   "metadata": {},
   "outputs": [],
   "source": []
  },
  {
   "cell_type": "code",
   "execution_count": null,
   "metadata": {},
   "outputs": [],
   "source": []
  },
  {
   "cell_type": "code",
   "execution_count": null,
   "metadata": {},
   "outputs": [],
   "source": []
  },
  {
   "cell_type": "code",
   "execution_count": null,
   "metadata": {},
   "outputs": [],
   "source": []
  },
  {
   "cell_type": "code",
   "execution_count": null,
   "metadata": {},
   "outputs": [],
   "source": []
  },
  {
   "cell_type": "code",
   "execution_count": null,
   "metadata": {},
   "outputs": [],
   "source": []
  }
 ],
 "metadata": {
  "kernelspec": {
   "display_name": "Python 3",
   "language": "python",
   "name": "python3"
  },
  "language_info": {
   "codemirror_mode": {
    "name": "ipython",
    "version": 3
   },
   "file_extension": ".py",
   "mimetype": "text/x-python",
   "name": "python",
   "nbconvert_exporter": "python",
   "pygments_lexer": "ipython3",
   "version": "3.8.3"
  }
 },
 "nbformat": 4,
 "nbformat_minor": 4
}
